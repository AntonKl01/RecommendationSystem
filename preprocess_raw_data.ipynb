{
 "cells": [
  {
   "cell_type": "code",
   "execution_count": 1,
   "metadata": {},
   "outputs": [],
   "source": [
    "import json\n",
    "from typing import Tuple\n",
    "from pathlib import Path\n",
    "import pandas as pd\n",
    "import numpy as np"
   ]
  },
  {
   "attachments": {},
   "cell_type": "markdown",
   "metadata": {},
   "source": [
    "# Предобработка данных"
   ]
  },
  {
   "attachments": {},
   "cell_type": "markdown",
   "metadata": {},
   "source": [
    "## Чтение данных"
   ]
  },
  {
   "cell_type": "code",
   "execution_count": 2,
   "metadata": {},
   "outputs": [],
   "source": [
    "def read_raw_data(dir_path: str) -> Tuple[pd.DataFrame, pd.DataFrame, pd.DataFrame, dict]:\n",
    "\n",
    "    ratings = pd.read_csv(Path(dir_path) / 'train_ratings.csv')\n",
    "    trainsactions = pd.read_csv(Path(dir_path) / 'train_transactions.csv')\n",
    "    bookmarks = pd.read_csv(Path(dir_path) / 'train_bookmarks.csv')\n",
    "\n",
    "    with open(Path(dir_path) / 'catalogue.json', 'r') as f:\n",
    "        meta_data = json.load(f)\n",
    "\n",
    "    return trainsactions, ratings, bookmarks, meta_data  \n",
    "\n",
    "# convert meta dict representation to pd.DataFrame with \n",
    "# parsing of attribute and availability value list\n",
    "def create_availability_columns(meta: pd.DataFrame) -> pd.DataFrame:\n",
    "    for availability in ['purchase', 'rent', 'subscription']:\n",
    "        bynary_list = []\n",
    "        for i in range(len(meta)):\n",
    "            if availability in meta['availability'][i]:\n",
    "                bynary_list.append(1)\n",
    "            else:\n",
    "                bynary_list.append(0)\n",
    "        meta[availability] = bynary_list\n",
    "    meta = meta.drop(columns='availability')\n",
    "    return meta \n",
    "\n",
    "def create_attributes_columns(meta: pd.DataFrame) -> pd.DataFrame:\n",
    "    max_length_attributes = 0\n",
    "    for i in meta['attributes']:\n",
    "        if max_length_attributes < len(i):\n",
    "            max_length_attributes = len(i)\n",
    "    \n",
    "    for i in range(1, max_length_attributes + 1):\n",
    "        attribute_list = []\n",
    "        for j in meta['attributes']:\n",
    "            if i <= len(j):\n",
    "                attribute_list.append(j[i - 1])\n",
    "            else:\n",
    "                attribute_list.append(0)\n",
    "        meta[f'attribute{i}'] = attribute_list\n",
    "    meta = meta.drop(columns=['attributes'])\n",
    "    return meta\n",
    "\n",
    "def meta_to_df(meta: dict) -> pd.DataFrame:\n",
    "    meta = pd.DataFrame.from_dict(meta).T\n",
    "    meta = meta.reset_index(names='element_uid')\n",
    "    meta = create_availability_columns(meta)\n",
    "    meta = create_attributes_columns(meta)\n",
    "    return meta "
   ]
  },
  {
   "cell_type": "code",
   "execution_count": 3,
   "metadata": {},
   "outputs": [],
   "source": [
    "trainsactions, ratings, bookmarks, meta = read_raw_data(dir_path='data')\n",
    "meta = meta_to_df(meta)"
   ]
  },
  {
   "attachments": {},
   "cell_type": "markdown",
   "metadata": {},
   "source": [
    "## Исследование на пропущенные значения"
   ]
  },
  {
   "cell_type": "code",
   "execution_count": 4,
   "metadata": {},
   "outputs": [
    {
     "name": "stdout",
     "output_type": "stream",
     "text": [
      "Количество пропущенных значений матрицы trainsactions: 0\n",
      "Количество пропущенных значений матрицы ratings: 0\n",
      "Количество пропущенных значений матрицы bookmarks: 0\n",
      "Количество пропущенных значений матрицы meta: 0\n"
     ]
    }
   ],
   "source": [
    "print(f'Количество пропущенных значений матрицы trainsactions: {trainsactions.isna().sum().sum()}')\n",
    "print(f'Количество пропущенных значений матрицы ratings: {ratings.isna().sum().sum()}')\n",
    "print(f'Количество пропущенных значений матрицы bookmarks: {bookmarks.isna().sum().sum()}')\n",
    "print(f'Количество пропущенных значений матрицы meta: {meta.isna().sum().sum()}')"
   ]
  },
  {
   "attachments": {},
   "cell_type": "markdown",
   "metadata": {},
   "source": [
    "## Изменение типов данных матриц trainsactions, ratings, meta"
   ]
  },
  {
   "attachments": {},
   "cell_type": "markdown",
   "metadata": {},
   "source": [
    "### trainsactions"
   ]
  },
  {
   "cell_type": "code",
   "execution_count": 5,
   "metadata": {},
   "outputs": [
    {
     "data": {
      "text/html": [
       "<div>\n",
       "<style scoped>\n",
       "    .dataframe tbody tr th:only-of-type {\n",
       "        vertical-align: middle;\n",
       "    }\n",
       "\n",
       "    .dataframe tbody tr th {\n",
       "        vertical-align: top;\n",
       "    }\n",
       "\n",
       "    .dataframe thead th {\n",
       "        text-align: right;\n",
       "    }\n",
       "</style>\n",
       "<table border=\"1\" class=\"dataframe\">\n",
       "  <thead>\n",
       "    <tr style=\"text-align: right;\">\n",
       "      <th></th>\n",
       "      <th>element_uid</th>\n",
       "      <th>user_uid</th>\n",
       "      <th>consumption_mode</th>\n",
       "      <th>ts</th>\n",
       "      <th>watched_time</th>\n",
       "      <th>device_type</th>\n",
       "      <th>device_manufacturer</th>\n",
       "    </tr>\n",
       "  </thead>\n",
       "  <tbody>\n",
       "    <tr>\n",
       "      <th>0</th>\n",
       "      <td>2570</td>\n",
       "      <td>408484</td>\n",
       "      <td>S</td>\n",
       "      <td>4.430483e+07</td>\n",
       "      <td>0</td>\n",
       "      <td>5</td>\n",
       "      <td>90</td>\n",
       "    </tr>\n",
       "    <tr>\n",
       "      <th>1</th>\n",
       "      <td>8522</td>\n",
       "      <td>408484</td>\n",
       "      <td>S</td>\n",
       "      <td>4.430481e+07</td>\n",
       "      <td>0</td>\n",
       "      <td>5</td>\n",
       "      <td>90</td>\n",
       "    </tr>\n",
       "    <tr>\n",
       "      <th>2</th>\n",
       "      <td>7642</td>\n",
       "      <td>428798</td>\n",
       "      <td>S</td>\n",
       "      <td>4.430480e+07</td>\n",
       "      <td>35</td>\n",
       "      <td>5</td>\n",
       "      <td>90</td>\n",
       "    </tr>\n",
       "    <tr>\n",
       "      <th>3</th>\n",
       "      <td>8330</td>\n",
       "      <td>428798</td>\n",
       "      <td>S</td>\n",
       "      <td>4.430480e+07</td>\n",
       "      <td>6350</td>\n",
       "      <td>5</td>\n",
       "      <td>90</td>\n",
       "    </tr>\n",
       "    <tr>\n",
       "      <th>4</th>\n",
       "      <td>8546</td>\n",
       "      <td>408484</td>\n",
       "      <td>S</td>\n",
       "      <td>4.430477e+07</td>\n",
       "      <td>0</td>\n",
       "      <td>5</td>\n",
       "      <td>90</td>\n",
       "    </tr>\n",
       "  </tbody>\n",
       "</table>\n",
       "</div>"
      ],
      "text/plain": [
       "   element_uid  user_uid consumption_mode            ts  watched_time  \\\n",
       "0         2570    408484                S  4.430483e+07             0   \n",
       "1         8522    408484                S  4.430481e+07             0   \n",
       "2         7642    428798                S  4.430480e+07            35   \n",
       "3         8330    428798                S  4.430480e+07          6350   \n",
       "4         8546    408484                S  4.430477e+07             0   \n",
       "\n",
       "   device_type  device_manufacturer  \n",
       "0            5                   90  \n",
       "1            5                   90  \n",
       "2            5                   90  \n",
       "3            5                   90  \n",
       "4            5                   90  "
      ]
     },
     "execution_count": 5,
     "metadata": {},
     "output_type": "execute_result"
    }
   ],
   "source": [
    "trainsactions.head()"
   ]
  },
  {
   "cell_type": "code",
   "execution_count": 6,
   "metadata": {},
   "outputs": [
    {
     "name": "stdout",
     "output_type": "stream",
     "text": [
      "<class 'pandas.core.frame.DataFrame'>\n",
      "RangeIndex: 7075308 entries, 0 to 7075307\n",
      "Data columns (total 7 columns):\n",
      " #   Column               Dtype  \n",
      "---  ------               -----  \n",
      " 0   element_uid          int64  \n",
      " 1   user_uid             int64  \n",
      " 2   consumption_mode     object \n",
      " 3   ts                   float64\n",
      " 4   watched_time         int64  \n",
      " 5   device_type          int64  \n",
      " 6   device_manufacturer  int64  \n",
      "dtypes: float64(1), int64(5), object(1)\n",
      "memory usage: 377.9+ MB\n"
     ]
    }
   ],
   "source": [
    "trainsactions.info()"
   ]
  },
  {
   "cell_type": "code",
   "execution_count": 7,
   "metadata": {},
   "outputs": [],
   "source": [
    "from sklearn.preprocessing import LabelEncoder\n",
    "\n",
    "def consumption_mode_encoder(trainsactions: pd.DataFrame) -> pd.DataFrame:\n",
    "    encoder = LabelEncoder()\n",
    "    numeric_consumption_mode = encoder.fit_transform(trainsactions['consumption_mode'].values)\n",
    "    trainsactions['consumption_mode'] = numeric_consumption_mode.astype(np.int8)\n",
    "    return trainsactions\n",
    "\n",
    "def change_trainsaction_dtype(trainsactions: pd.DataFrame) -> pd.DataFrame:\n",
    "    trainsactions = consumption_mode_encoder(trainsactions)\n",
    "    trainsactions['ts'] = trainsactions['ts'].astype(np.float32)\n",
    "    trainsactions['watched_time'] = trainsactions['watched_time'].astype(np.int32)\n",
    "    trainsactions[['device_type', 'device_manufacturer']] = trainsactions[['device_type', 'device_manufacturer']].astype(np.int8)\n",
    "    return trainsactions"
   ]
  },
  {
   "cell_type": "code",
   "execution_count": 8,
   "metadata": {},
   "outputs": [],
   "source": [
    "trainsactions = change_trainsaction_dtype(trainsactions)"
   ]
  },
  {
   "attachments": {},
   "cell_type": "markdown",
   "metadata": {},
   "source": [
    "### ratings"
   ]
  },
  {
   "cell_type": "code",
   "execution_count": 9,
   "metadata": {},
   "outputs": [
    {
     "data": {
      "text/html": [
       "<div>\n",
       "<style scoped>\n",
       "    .dataframe tbody tr th:only-of-type {\n",
       "        vertical-align: middle;\n",
       "    }\n",
       "\n",
       "    .dataframe tbody tr th {\n",
       "        vertical-align: top;\n",
       "    }\n",
       "\n",
       "    .dataframe thead th {\n",
       "        text-align: right;\n",
       "    }\n",
       "</style>\n",
       "<table border=\"1\" class=\"dataframe\">\n",
       "  <thead>\n",
       "    <tr style=\"text-align: right;\">\n",
       "      <th></th>\n",
       "      <th>user_uid</th>\n",
       "      <th>element_uid</th>\n",
       "      <th>rating</th>\n",
       "      <th>ts</th>\n",
       "    </tr>\n",
       "  </thead>\n",
       "  <tbody>\n",
       "    <tr>\n",
       "      <th>0</th>\n",
       "      <td>571252</td>\n",
       "      <td>3783</td>\n",
       "      <td>10</td>\n",
       "      <td>4.408089e+07</td>\n",
       "    </tr>\n",
       "    <tr>\n",
       "      <th>1</th>\n",
       "      <td>571252</td>\n",
       "      <td>5616</td>\n",
       "      <td>10</td>\n",
       "      <td>4.401264e+07</td>\n",
       "    </tr>\n",
       "    <tr>\n",
       "      <th>2</th>\n",
       "      <td>571252</td>\n",
       "      <td>2639</td>\n",
       "      <td>10</td>\n",
       "      <td>4.401099e+07</td>\n",
       "    </tr>\n",
       "    <tr>\n",
       "      <th>3</th>\n",
       "      <td>63140</td>\n",
       "      <td>2693</td>\n",
       "      <td>10</td>\n",
       "      <td>4.421830e+07</td>\n",
       "    </tr>\n",
       "    <tr>\n",
       "      <th>4</th>\n",
       "      <td>63140</td>\n",
       "      <td>9999</td>\n",
       "      <td>10</td>\n",
       "      <td>4.406648e+07</td>\n",
       "    </tr>\n",
       "  </tbody>\n",
       "</table>\n",
       "</div>"
      ],
      "text/plain": [
       "   user_uid  element_uid  rating            ts\n",
       "0    571252         3783      10  4.408089e+07\n",
       "1    571252         5616      10  4.401264e+07\n",
       "2    571252         2639      10  4.401099e+07\n",
       "3     63140         2693      10  4.421830e+07\n",
       "4     63140         9999      10  4.406648e+07"
      ]
     },
     "execution_count": 9,
     "metadata": {},
     "output_type": "execute_result"
    }
   ],
   "source": [
    "ratings.head()"
   ]
  },
  {
   "cell_type": "code",
   "execution_count": 10,
   "metadata": {},
   "outputs": [
    {
     "name": "stdout",
     "output_type": "stream",
     "text": [
      "<class 'pandas.core.frame.DataFrame'>\n",
      "RangeIndex: 319245 entries, 0 to 319244\n",
      "Data columns (total 4 columns):\n",
      " #   Column       Non-Null Count   Dtype  \n",
      "---  ------       --------------   -----  \n",
      " 0   user_uid     319245 non-null  int64  \n",
      " 1   element_uid  319245 non-null  int64  \n",
      " 2   rating       319245 non-null  int64  \n",
      " 3   ts           319245 non-null  float64\n",
      "dtypes: float64(1), int64(3)\n",
      "memory usage: 9.7 MB\n"
     ]
    }
   ],
   "source": [
    "ratings.info()"
   ]
  },
  {
   "cell_type": "code",
   "execution_count": 11,
   "metadata": {},
   "outputs": [],
   "source": [
    "def change_ratings_dtype(ratings: pd.DataFrame) -> pd.DataFrame:\n",
    "    ratings['rating'] = ratings['rating'].astype(np.int8)\n",
    "    ratings['ts'] = ratings['ts'].astype(np.float32)\n",
    "    return ratings"
   ]
  },
  {
   "cell_type": "code",
   "execution_count": 12,
   "metadata": {},
   "outputs": [],
   "source": [
    "ratings = change_ratings_dtype(ratings)"
   ]
  },
  {
   "attachments": {},
   "cell_type": "markdown",
   "metadata": {},
   "source": [
    "### meta"
   ]
  },
  {
   "cell_type": "code",
   "execution_count": 13,
   "metadata": {},
   "outputs": [
    {
     "data": {
      "text/html": [
       "<div>\n",
       "<style scoped>\n",
       "    .dataframe tbody tr th:only-of-type {\n",
       "        vertical-align: middle;\n",
       "    }\n",
       "\n",
       "    .dataframe tbody tr th {\n",
       "        vertical-align: top;\n",
       "    }\n",
       "\n",
       "    .dataframe thead th {\n",
       "        text-align: right;\n",
       "    }\n",
       "</style>\n",
       "<table border=\"1\" class=\"dataframe\">\n",
       "  <thead>\n",
       "    <tr style=\"text-align: right;\">\n",
       "      <th></th>\n",
       "      <th>element_uid</th>\n",
       "      <th>type</th>\n",
       "      <th>duration</th>\n",
       "      <th>feature_1</th>\n",
       "      <th>feature_2</th>\n",
       "      <th>feature_3</th>\n",
       "      <th>feature_4</th>\n",
       "      <th>feature_5</th>\n",
       "      <th>purchase</th>\n",
       "      <th>rent</th>\n",
       "      <th>...</th>\n",
       "      <th>attribute48</th>\n",
       "      <th>attribute49</th>\n",
       "      <th>attribute50</th>\n",
       "      <th>attribute51</th>\n",
       "      <th>attribute52</th>\n",
       "      <th>attribute53</th>\n",
       "      <th>attribute54</th>\n",
       "      <th>attribute55</th>\n",
       "      <th>attribute56</th>\n",
       "      <th>attribute57</th>\n",
       "    </tr>\n",
       "  </thead>\n",
       "  <tbody>\n",
       "    <tr>\n",
       "      <th>0</th>\n",
       "      <td>1983</td>\n",
       "      <td>movie</td>\n",
       "      <td>140</td>\n",
       "      <td>1657223.396513</td>\n",
       "      <td>0.75361</td>\n",
       "      <td>39</td>\n",
       "      <td>1.119409</td>\n",
       "      <td>0.0</td>\n",
       "      <td>1</td>\n",
       "      <td>1</td>\n",
       "      <td>...</td>\n",
       "      <td>0</td>\n",
       "      <td>0</td>\n",
       "      <td>0</td>\n",
       "      <td>0</td>\n",
       "      <td>0</td>\n",
       "      <td>0</td>\n",
       "      <td>0</td>\n",
       "      <td>0</td>\n",
       "      <td>0</td>\n",
       "      <td>0</td>\n",
       "    </tr>\n",
       "    <tr>\n",
       "      <th>1</th>\n",
       "      <td>3783</td>\n",
       "      <td>movie</td>\n",
       "      <td>110</td>\n",
       "      <td>35565207.694893</td>\n",
       "      <td>0.766254</td>\n",
       "      <td>41</td>\n",
       "      <td>1.138604</td>\n",
       "      <td>0.654707</td>\n",
       "      <td>1</td>\n",
       "      <td>1</td>\n",
       "      <td>...</td>\n",
       "      <td>0</td>\n",
       "      <td>0</td>\n",
       "      <td>0</td>\n",
       "      <td>0</td>\n",
       "      <td>0</td>\n",
       "      <td>0</td>\n",
       "      <td>0</td>\n",
       "      <td>0</td>\n",
       "      <td>0</td>\n",
       "      <td>0</td>\n",
       "    </tr>\n",
       "    <tr>\n",
       "      <th>2</th>\n",
       "      <td>5208</td>\n",
       "      <td>movie</td>\n",
       "      <td>90</td>\n",
       "      <td>13270676.52431</td>\n",
       "      <td>0.765425</td>\n",
       "      <td>27</td>\n",
       "      <td>1.131807</td>\n",
       "      <td>0.592716</td>\n",
       "      <td>1</td>\n",
       "      <td>1</td>\n",
       "      <td>...</td>\n",
       "      <td>0</td>\n",
       "      <td>0</td>\n",
       "      <td>0</td>\n",
       "      <td>0</td>\n",
       "      <td>0</td>\n",
       "      <td>0</td>\n",
       "      <td>0</td>\n",
       "      <td>0</td>\n",
       "      <td>0</td>\n",
       "      <td>0</td>\n",
       "    </tr>\n",
       "    <tr>\n",
       "      <th>3</th>\n",
       "      <td>9744</td>\n",
       "      <td>movie</td>\n",
       "      <td>120</td>\n",
       "      <td>21749917.409823</td>\n",
       "      <td>0.757874</td>\n",
       "      <td>26</td>\n",
       "      <td>1.133525</td>\n",
       "      <td>0.654707</td>\n",
       "      <td>1</td>\n",
       "      <td>1</td>\n",
       "      <td>...</td>\n",
       "      <td>0</td>\n",
       "      <td>0</td>\n",
       "      <td>0</td>\n",
       "      <td>0</td>\n",
       "      <td>0</td>\n",
       "      <td>0</td>\n",
       "      <td>0</td>\n",
       "      <td>0</td>\n",
       "      <td>0</td>\n",
       "      <td>0</td>\n",
       "    </tr>\n",
       "    <tr>\n",
       "      <th>4</th>\n",
       "      <td>1912</td>\n",
       "      <td>movie</td>\n",
       "      <td>110</td>\n",
       "      <td>9212963.985682</td>\n",
       "      <td>0.759566</td>\n",
       "      <td>7</td>\n",
       "      <td>1.110127</td>\n",
       "      <td>0.654707</td>\n",
       "      <td>1</td>\n",
       "      <td>1</td>\n",
       "      <td>...</td>\n",
       "      <td>0</td>\n",
       "      <td>0</td>\n",
       "      <td>0</td>\n",
       "      <td>0</td>\n",
       "      <td>0</td>\n",
       "      <td>0</td>\n",
       "      <td>0</td>\n",
       "      <td>0</td>\n",
       "      <td>0</td>\n",
       "      <td>0</td>\n",
       "    </tr>\n",
       "  </tbody>\n",
       "</table>\n",
       "<p>5 rows × 68 columns</p>\n",
       "</div>"
      ],
      "text/plain": [
       "  element_uid   type duration        feature_1 feature_2 feature_3 feature_4  \\\n",
       "0        1983  movie      140   1657223.396513   0.75361        39  1.119409   \n",
       "1        3783  movie      110  35565207.694893  0.766254        41  1.138604   \n",
       "2        5208  movie       90   13270676.52431  0.765425        27  1.131807   \n",
       "3        9744  movie      120  21749917.409823  0.757874        26  1.133525   \n",
       "4        1912  movie      110   9212963.985682  0.759566         7  1.110127   \n",
       "\n",
       "  feature_5  purchase  rent  ...  attribute48  attribute49  attribute50  \\\n",
       "0       0.0         1     1  ...            0            0            0   \n",
       "1  0.654707         1     1  ...            0            0            0   \n",
       "2  0.592716         1     1  ...            0            0            0   \n",
       "3  0.654707         1     1  ...            0            0            0   \n",
       "4  0.654707         1     1  ...            0            0            0   \n",
       "\n",
       "   attribute51  attribute52  attribute53  attribute54  attribute55  \\\n",
       "0            0            0            0            0            0   \n",
       "1            0            0            0            0            0   \n",
       "2            0            0            0            0            0   \n",
       "3            0            0            0            0            0   \n",
       "4            0            0            0            0            0   \n",
       "\n",
       "   attribute56  attribute57  \n",
       "0            0            0  \n",
       "1            0            0  \n",
       "2            0            0  \n",
       "3            0            0  \n",
       "4            0            0  \n",
       "\n",
       "[5 rows x 68 columns]"
      ]
     },
     "execution_count": 13,
     "metadata": {},
     "output_type": "execute_result"
    }
   ],
   "source": [
    "meta.head()"
   ]
  },
  {
   "cell_type": "code",
   "execution_count": 14,
   "metadata": {},
   "outputs": [
    {
     "name": "stdout",
     "output_type": "stream",
     "text": [
      "<class 'pandas.core.frame.DataFrame'>\n",
      "RangeIndex: 10200 entries, 0 to 10199\n",
      "Data columns (total 68 columns):\n",
      " #   Column        Non-Null Count  Dtype \n",
      "---  ------        --------------  ----- \n",
      " 0   element_uid   10200 non-null  object\n",
      " 1   type          10200 non-null  object\n",
      " 2   duration      10200 non-null  object\n",
      " 3   feature_1     10200 non-null  object\n",
      " 4   feature_2     10200 non-null  object\n",
      " 5   feature_3     10200 non-null  object\n",
      " 6   feature_4     10200 non-null  object\n",
      " 7   feature_5     10200 non-null  object\n",
      " 8   purchase      10200 non-null  int64 \n",
      " 9   rent          10200 non-null  int64 \n",
      " 10  subscription  10200 non-null  int64 \n",
      " 11  attribute1    10200 non-null  int64 \n",
      " 12  attribute2    10200 non-null  int64 \n",
      " 13  attribute3    10200 non-null  int64 \n",
      " 14  attribute4    10200 non-null  int64 \n",
      " 15  attribute5    10200 non-null  int64 \n",
      " 16  attribute6    10200 non-null  int64 \n",
      " 17  attribute7    10200 non-null  int64 \n",
      " 18  attribute8    10200 non-null  int64 \n",
      " 19  attribute9    10200 non-null  int64 \n",
      " 20  attribute10   10200 non-null  int64 \n",
      " 21  attribute11   10200 non-null  int64 \n",
      " 22  attribute12   10200 non-null  int64 \n",
      " 23  attribute13   10200 non-null  int64 \n",
      " 24  attribute14   10200 non-null  int64 \n",
      " 25  attribute15   10200 non-null  int64 \n",
      " 26  attribute16   10200 non-null  int64 \n",
      " 27  attribute17   10200 non-null  int64 \n",
      " 28  attribute18   10200 non-null  int64 \n",
      " 29  attribute19   10200 non-null  int64 \n",
      " 30  attribute20   10200 non-null  int64 \n",
      " 31  attribute21   10200 non-null  int64 \n",
      " 32  attribute22   10200 non-null  int64 \n",
      " 33  attribute23   10200 non-null  int64 \n",
      " 34  attribute24   10200 non-null  int64 \n",
      " 35  attribute25   10200 non-null  int64 \n",
      " 36  attribute26   10200 non-null  int64 \n",
      " 37  attribute27   10200 non-null  int64 \n",
      " 38  attribute28   10200 non-null  int64 \n",
      " 39  attribute29   10200 non-null  int64 \n",
      " 40  attribute30   10200 non-null  int64 \n",
      " 41  attribute31   10200 non-null  int64 \n",
      " 42  attribute32   10200 non-null  int64 \n",
      " 43  attribute33   10200 non-null  int64 \n",
      " 44  attribute34   10200 non-null  int64 \n",
      " 45  attribute35   10200 non-null  int64 \n",
      " 46  attribute36   10200 non-null  int64 \n",
      " 47  attribute37   10200 non-null  int64 \n",
      " 48  attribute38   10200 non-null  int64 \n",
      " 49  attribute39   10200 non-null  int64 \n",
      " 50  attribute40   10200 non-null  int64 \n",
      " 51  attribute41   10200 non-null  int64 \n",
      " 52  attribute42   10200 non-null  int64 \n",
      " 53  attribute43   10200 non-null  int64 \n",
      " 54  attribute44   10200 non-null  int64 \n",
      " 55  attribute45   10200 non-null  int64 \n",
      " 56  attribute46   10200 non-null  int64 \n",
      " 57  attribute47   10200 non-null  int64 \n",
      " 58  attribute48   10200 non-null  int64 \n",
      " 59  attribute49   10200 non-null  int64 \n",
      " 60  attribute50   10200 non-null  int64 \n",
      " 61  attribute51   10200 non-null  int64 \n",
      " 62  attribute52   10200 non-null  int64 \n",
      " 63  attribute53   10200 non-null  int64 \n",
      " 64  attribute54   10200 non-null  int64 \n",
      " 65  attribute55   10200 non-null  int64 \n",
      " 66  attribute56   10200 non-null  int64 \n",
      " 67  attribute57   10200 non-null  int64 \n",
      "dtypes: int64(60), object(8)\n",
      "memory usage: 5.3+ MB\n"
     ]
    }
   ],
   "source": [
    "meta.info()"
   ]
  },
  {
   "cell_type": "code",
   "execution_count": 15,
   "metadata": {},
   "outputs": [],
   "source": [
    "def meta_type_encoder(meta: pd.DataFrame) -> pd.DataFrame:\n",
    "    encoder = LabelEncoder()\n",
    "    numeric_type = encoder.fit_transform(meta['type'].values)\n",
    "    meta['type'] = numeric_type.astype(np.int8)\n",
    "    return meta\n",
    "\n",
    "def change_meta_dtype(meta: pd.DataFrame) -> pd.DataFrame:\n",
    "    meta['element_uid'] = meta['element_uid'].astype(np.int64)\n",
    "    meta = meta_type_encoder(meta)\n",
    "    meta['duration'] = meta['duration'].astype(np.int16)\n",
    "    meta[['feature_1', 'feature_2', 'feature_4', 'feature_5']] \\\n",
    "         = meta[['feature_1', 'feature_2', 'feature_4', 'feature_5']].astype(np.float32)\n",
    "    meta['feature_3'] = meta['feature_3'].astype(np.int8)\n",
    "    meta[['purchase', 'rent', 'subscription']] = meta[['purchase', 'rent', 'subscription']].astype(np.int8)\n",
    "    meta.loc[:, 'attribute1':] = meta.loc[:, 'attribute1':].astype(np.int32)\n",
    "    return meta"
   ]
  },
  {
   "cell_type": "code",
   "execution_count": 16,
   "metadata": {},
   "outputs": [
    {
     "name": "stderr",
     "output_type": "stream",
     "text": [
      "/tmp/ipykernel_6711/2339072499.py:15: FutureWarning: In a future version, `df.iloc[:, i] = newvals` will attempt to set the values inplace instead of always setting a new array. To retain the old behavior, use either `df[df.columns[i]] = newvals` or, if columns are non-unique, `df.isetitem(i, newvals)`\n",
      "  meta.loc[:, 'attribute1':] = meta.loc[:, 'attribute1':].astype(np.int32)\n"
     ]
    }
   ],
   "source": [
    "meta = change_meta_dtype(meta)"
   ]
  },
  {
   "cell_type": "code",
   "execution_count": 17,
   "metadata": {},
   "outputs": [],
   "source": [
    "trainsactions.to_parquet('preprocess_data/preprocess_trainsactions.parquet')\n",
    "meta.to_parquet('preprocess_data/preprocess_meta.parquet')\n",
    "ratings.to_parquet('preprocess_data/preprocess_ratings.parquet')"
   ]
  },
  {
   "cell_type": "code",
   "execution_count": 18,
   "metadata": {},
   "outputs": [],
   "source": [
    "ratings.to_parquet('als_data/preprocess_ratings.parquet')\n",
    "meta.to_parquet('als_data/preprocess_meta.parquet')"
   ]
  },
  {
   "attachments": {},
   "cell_type": "markdown",
   "metadata": {},
   "source": [
    "## Создание матриц item_features, user_features, trainsactions_train, trainsaction_test"
   ]
  },
  {
   "attachments": {},
   "cell_type": "markdown",
   "metadata": {},
   "source": [
    "### item_features"
   ]
  },
  {
   "cell_type": "code",
   "execution_count": 19,
   "metadata": {},
   "outputs": [],
   "source": [
    "def add_meta(meta: pd.DataFrame, item_features: pd.DataFrame) -> pd.DataFrame:\n",
    "    item_features = (\n",
    "        item_features\n",
    "        .merge(\n",
    "            meta,\n",
    "            how='inner',\n",
    "            on='element_uid'\n",
    "        )\n",
    "    )\n",
    "    return item_features\n",
    "\n",
    "def add_content_popularity(trainsactions: pd.DataFrame, item_features: pd.DataFrame) -> pd.DataFrame:\n",
    "    item_features = (\n",
    "        item_features\n",
    "        .merge(\n",
    "            trainsactions.groupby('element_uid').size().reset_index(name='element_occurences'),\n",
    "            how='left',\n",
    "            on='element_uid'\n",
    "        )\n",
    "    )\n",
    "    item_features['popularity'] = (\n",
    "        (item_features['element_occurences'] / item_features['element_uid'].nunique()).astype(np.float32)\n",
    "    )\n",
    "    item_features = item_features.drop(columns=['element_occurences'])\n",
    "    \n",
    "    return item_features\n",
    "\n",
    "def add_count_content_bookmark(bookmarks: pd.DataFrame, item_features: pd.DataFrame) -> pd.DataFrame:\n",
    "    bookmarks_per_item = (\n",
    "        bookmarks\n",
    "        .groupby('element_uid')\n",
    "        .size()\n",
    "        .reset_index(name='element_bookmark_count')\n",
    "    )\n",
    "    item_features = (\n",
    "        item_features\n",
    "        .merge(\n",
    "            bookmarks_per_item[['element_uid', 'element_bookmark_count']],\n",
    "            on='element_uid',\n",
    "            how='left'\n",
    "        )\n",
    "    )\n",
    "    item_features['element_bookmark_count'].fillna(0, inplace=True)\n",
    "    item_features['element_bookmark_count'] = item_features['element_bookmark_count'].astype(np.int32)\n",
    "\n",
    "    return item_features\n",
    "\n",
    "def create_item_features(meta: pd.DataFrame, trainsactions: pd.DataFrame, bookmarks: pd.DataFrame) -> pd.DataFrame:\n",
    "    item_features = pd.DataFrame(trainsactions['element_uid'].unique(), columns=['element_uid'])\n",
    "    print(\"add meta\")\n",
    "    item_features = add_meta(meta, item_features)\n",
    "    print(\"add content popularity\")\n",
    "    item_features = add_content_popularity(trainsactions, item_features)\n",
    "    print(\"add count content bookmark\")\n",
    "    item_features = add_count_content_bookmark(bookmarks, item_features)\n",
    "    return item_features\n"
   ]
  },
  {
   "cell_type": "code",
   "execution_count": 20,
   "metadata": {},
   "outputs": [
    {
     "name": "stdout",
     "output_type": "stream",
     "text": [
      "add meta\n",
      "add content popularity\n",
      "add count content bookmark\n"
     ]
    }
   ],
   "source": [
    "item_features = create_item_features(meta, trainsactions, bookmarks)"
   ]
  },
  {
   "cell_type": "code",
   "execution_count": 21,
   "metadata": {},
   "outputs": [
    {
     "data": {
      "text/plain": [
       "(8254, 70)"
      ]
     },
     "execution_count": 21,
     "metadata": {},
     "output_type": "execute_result"
    }
   ],
   "source": [
    "item_features.shape"
   ]
  },
  {
   "cell_type": "code",
   "execution_count": 22,
   "metadata": {},
   "outputs": [],
   "source": [
    "item_features.to_parquet('cb_data/item_features.parquet')"
   ]
  },
  {
   "attachments": {},
   "cell_type": "markdown",
   "metadata": {},
   "source": [
    "### user_features"
   ]
  },
  {
   "cell_type": "code",
   "execution_count": 23,
   "metadata": {},
   "outputs": [],
   "source": [
    "def add_favorite_device_type(trainsactions: pd.DataFrame, user_features: pd.DataFrame) -> pd.DataFrame:\n",
    "    favorite_device_type_per_user = (\n",
    "        trainsactions\n",
    "        .groupby(['user_uid', 'device_type'])\n",
    "        .size()\n",
    "        .groupby('user_uid')\n",
    "        .idxmax()\n",
    "    )\n",
    "    favorite_device_type_per_user_df = pd.DataFrame([[i[0], i[1]] for i in favorite_device_type_per_user], \n",
    "                                                    columns=['user_uid', 'favorite_device_type'])\n",
    "    user_features = (\n",
    "        user_features\n",
    "        .merge(\n",
    "            favorite_device_type_per_user_df,\n",
    "            how='left',\n",
    "            on='user_uid'\n",
    "        )\n",
    "    )\n",
    "\n",
    "    return user_features\n",
    "\n",
    "def add_favorite_consumption_mode(trainsactions: pd.DataFrame, user_features: pd.DataFrame) -> pd.DataFrame:\n",
    "    favorite_consumption_mode_per_user = (\n",
    "        trainsactions\n",
    "        .groupby(['user_uid', 'consumption_mode'])\n",
    "        .size()\n",
    "        .groupby('user_uid')\n",
    "        .idxmax()\n",
    "    )\n",
    "    favorite_consumption_mode_per_user_df = pd.DataFrame([[i[0], i[1]] for i in favorite_consumption_mode_per_user], \n",
    "                                                        columns=['user_uid', 'favorite_consumption_mode'])\n",
    "    \n",
    "    user_features = (\n",
    "        user_features\n",
    "        .merge(\n",
    "            favorite_consumption_mode_per_user_df,\n",
    "            how='left',\n",
    "            on='user_uid'\n",
    "        )\n",
    "    )\n",
    "\n",
    "    return user_features\n",
    "\n",
    "def add_amount_watched_item(trainsactions: pd.DataFrame, user_features: pd.DataFrame) -> pd.DataFrame:\n",
    "    user_features = (\n",
    "        user_features\n",
    "        .merge(\n",
    "            trainsactions.groupby('user_uid').size().reset_index(name='user_watch_count'),\n",
    "            on='user_uid',\n",
    "            how='left'\n",
    "        )\n",
    "    )\n",
    "\n",
    "    return user_features\n",
    "\n",
    "def add_mean_watched_time(trainsactions: pd.DataFrame, user_features: pd.DataFrame) -> pd.DataFrame: \n",
    "    user_watch_time_mean = (\n",
    "        trainsactions\n",
    "        .groupby('user_uid')['watched_time']\n",
    "        .mean()\n",
    "        .reset_index(name='user_watch_time_mean')\n",
    "    )\n",
    "\n",
    "    user_features = (\n",
    "        user_features\n",
    "        .merge(\n",
    "            user_watch_time_mean,\n",
    "            on='user_uid',\n",
    "            how='left'\n",
    "        )\n",
    "    )\n",
    "\n",
    "    return user_features\n",
    "\n",
    "def change_dtype(user_features: pd.DataFrame) -> pd.DataFrame:\n",
    "    user_features[['favorite_device_type', 'favorite_consumption_mode']] = \\\n",
    "        user_features[['favorite_device_type', 'favorite_consumption_mode']].astype(np.int8)\n",
    "    user_features['user_watch_count'] = user_features['user_watch_count'].astype(np.int32)\n",
    "    user_features['user_watch_time_mean'] = user_features['user_watch_time_mean'].astype(np.float32)\n",
    "\n",
    "    return user_features\n",
    "    \n",
    "\n",
    "def create_user_features(trainsactions: pd.DataFrame) -> pd.DataFrame:\n",
    "    user_features = pd.DataFrame(trainsactions['user_uid'].unique(), columns=['user_uid'])\n",
    "    print(\"add favorite device type\")\n",
    "    user_features = add_favorite_device_type(trainsactions, user_features)\n",
    "    print(\"add favorite consumption mode\")\n",
    "    user_features = add_favorite_consumption_mode(trainsactions, user_features)\n",
    "    print(\"add amount watched item\")\n",
    "    user_features = add_amount_watched_item(trainsactions, user_features)\n",
    "    print(\"add mean watched time\")\n",
    "    user_features = add_mean_watched_time(trainsactions, user_features)\n",
    "    print(\"change dtype\")\n",
    "    user_features = change_dtype(user_features)\n",
    "\n",
    "    return user_features"
   ]
  },
  {
   "cell_type": "code",
   "execution_count": 24,
   "metadata": {},
   "outputs": [
    {
     "name": "stdout",
     "output_type": "stream",
     "text": [
      "add favorite device type\n",
      "add favorite consumption mode\n",
      "add amount watched item\n",
      "add mean watched time\n",
      "change dtype\n"
     ]
    }
   ],
   "source": [
    "user_features = create_user_features(trainsactions)"
   ]
  },
  {
   "cell_type": "code",
   "execution_count": 25,
   "metadata": {},
   "outputs": [
    {
     "data": {
      "text/plain": [
       "(254849, 5)"
      ]
     },
     "execution_count": 25,
     "metadata": {},
     "output_type": "execute_result"
    }
   ],
   "source": [
    "user_features.shape"
   ]
  },
  {
   "cell_type": "code",
   "execution_count": 26,
   "metadata": {},
   "outputs": [],
   "source": [
    "user_features.to_parquet('cb_data/user_features.parquet')"
   ]
  },
  {
   "attachments": {},
   "cell_type": "markdown",
   "metadata": {},
   "source": [
    "### trainsactions_train и trainsactions_test"
   ]
  },
  {
   "cell_type": "code",
   "execution_count": 27,
   "metadata": {},
   "outputs": [
    {
     "data": {
      "text/plain": [
       "(7075308, 7)"
      ]
     },
     "execution_count": 27,
     "metadata": {},
     "output_type": "execute_result"
    }
   ],
   "source": [
    "trainsactions.shape"
   ]
  },
  {
   "cell_type": "code",
   "execution_count": 28,
   "metadata": {},
   "outputs": [],
   "source": [
    "def train_test_split(frame: pd.DataFrame) -> Tuple[pd.DataFrame, pd.DataFrame]:\n",
    "    frame['user_rank'] = (\n",
    "        frame\n",
    "        .groupby('user_uid')['ts']\n",
    "        .rank('first', ascending=False)\n",
    "        .astype('int32')\n",
    "    )\n",
    "    train = (\n",
    "        frame\n",
    "        .query('user_rank > 2')\n",
    "        .drop(columns=['user_rank'])\n",
    "    )\n",
    "    test = (\n",
    "        frame\n",
    "        .query('user_rank <= 2')\n",
    "        .drop(columns=['user_rank'])\n",
    "    )\n",
    "    frame.drop(columns=['user_rank'], inplace=True)\n",
    "    return train, test"
   ]
  },
  {
   "cell_type": "code",
   "execution_count": 29,
   "metadata": {},
   "outputs": [],
   "source": [
    "train_trainsactions, test_trainsactions = train_test_split(trainsactions)"
   ]
  },
  {
   "cell_type": "code",
   "execution_count": 30,
   "metadata": {},
   "outputs": [
    {
     "name": "stdout",
     "output_type": "stream",
     "text": [
      "train shapes: (6565610, 7)\n",
      "test shapes: (509698, 7)\n"
     ]
    }
   ],
   "source": [
    "print(f\"train shapes: {train_trainsactions.shape}\")\n",
    "print(f\"test shapes: {test_trainsactions.shape}\")"
   ]
  },
  {
   "cell_type": "code",
   "execution_count": 31,
   "metadata": {},
   "outputs": [],
   "source": [
    "train_trainsactions.to_parquet('als_data/als_train.parquet')\n",
    "test_trainsactions.to_parquet('als_data/als_test.parquet')"
   ]
  },
  {
   "cell_type": "code",
   "execution_count": null,
   "metadata": {},
   "outputs": [],
   "source": [
    "  "
   ]
  }
 ],
 "metadata": {
  "kernelspec": {
   "display_name": "ds_env",
   "language": "python",
   "name": "python3"
  },
  "language_info": {
   "codemirror_mode": {
    "name": "ipython",
    "version": 3
   },
   "file_extension": ".py",
   "mimetype": "text/x-python",
   "name": "python",
   "nbconvert_exporter": "python",
   "pygments_lexer": "ipython3",
   "version": "3.8.10 (default, Nov 14 2022, 12:59:47) \n[GCC 9.4.0]"
  },
  "orig_nbformat": 4,
  "vscode": {
   "interpreter": {
    "hash": "c7d3ebd82edecee7caa3c6068d0e529c2d3c77002b6936268cfaa938ff641947"
   }
  }
 },
 "nbformat": 4,
 "nbformat_minor": 2
}
