{
 "cells": [
  {
   "cell_type": "code",
   "execution_count": 1,
   "metadata": {},
   "outputs": [],
   "source": [
    "from typing import Tuple\n",
    "from pathlib import Path\n",
    "import pandas as pd\n",
    "import numpy as np"
   ]
  },
  {
   "attachments": {},
   "cell_type": "markdown",
   "metadata": {},
   "source": [
    "# Обучение ALS"
   ]
  },
  {
   "attachments": {},
   "cell_type": "markdown",
   "metadata": {},
   "source": [
    "## Предобработка данных"
   ]
  },
  {
   "cell_type": "code",
   "execution_count": 2,
   "metadata": {},
   "outputs": [],
   "source": [
    "def read_data(dir_path: str) -> Tuple[pd.DataFrame, pd.DataFrame, pd.DataFrame, pd.DataFrame]:\n",
    "\n",
    "    als_train = pd.read_parquet(Path(dir_path) / 'als_train.parquet')\n",
    "    als_test = pd.read_parquet(Path(dir_path) / 'als_test.parquet')\n",
    "    ratings = pd.read_parquet(Path(dir_path) / 'preprocess_ratings.parquet')\n",
    "    meta = pd.read_parquet(Path(dir_path) / 'preprocess_meta.parquet')\n",
    "\n",
    "    return als_train, als_test, ratings, meta "
   ]
  },
  {
   "cell_type": "code",
   "execution_count": 3,
   "metadata": {},
   "outputs": [],
   "source": [
    "als_train, als_test, ratings, meta = read_data('als_data')"
   ]
  },
  {
   "cell_type": "code",
   "execution_count": 4,
   "metadata": {},
   "outputs": [
    {
     "data": {
      "text/plain": [
       "(6565610, 7)"
      ]
     },
     "execution_count": 4,
     "metadata": {},
     "output_type": "execute_result"
    }
   ],
   "source": [
    "als_train.shape"
   ]
  },
  {
   "attachments": {},
   "cell_type": "markdown",
   "metadata": {},
   "source": [
    "### Аппроксимация рейтингов пользователей"
   ]
  },
  {
   "cell_type": "code",
   "execution_count": 5,
   "metadata": {},
   "outputs": [],
   "source": [
    "def score_transaction(t):\n",
    "    score = 1\n",
    "    if t['duration'] > 0:\n",
    "        if t['type'] == 0:\n",
    "            if t['watched_ratio'] > 0.3:\n",
    "                score = int(t['watched_ratio'] * 9) + 1\n",
    "        else:\n",
    "            if t['watched_ratio'] > 1:\n",
    "                score = int(t['watched_ratio'] / 2) + 1\n",
    "    return min(score, 10)\n",
    "\n",
    "def trainsactions_ratings_approximation(trainsactions: pd.DataFrame, meta: pd.DataFrame) -> pd.DataFrame:\n",
    "    trainsactions_with_meta = (\n",
    "        trainsactions\n",
    "        .merge(meta[[\n",
    "            'element_uid', \n",
    "            'duration',\n",
    "            'type',\n",
    "        ]], on='element_uid', how='left')\n",
    "    )\n",
    "    trainsactions_with_meta['watched_ratio'] = (\n",
    "        trainsactions_with_meta['watched_time'] / \n",
    "        trainsactions_with_meta['duration']\n",
    "    )\n",
    "    print(\"score trainsaction\")\n",
    "    trainsactions_with_meta['score'] = trainsactions_with_meta.apply(score_transaction, axis=1)\n",
    "    \n",
    "    return trainsactions_with_meta    "
   ]
  },
  {
   "cell_type": "code",
   "execution_count": 6,
   "metadata": {},
   "outputs": [
    {
     "name": "stdout",
     "output_type": "stream",
     "text": [
      "score trainsaction\n"
     ]
    }
   ],
   "source": [
    "als_train_score = trainsactions_ratings_approximation(als_train, meta)"
   ]
  },
  {
   "attachments": {},
   "cell_type": "markdown",
   "metadata": {},
   "source": [
    "### Приведение матрицы als_train к виду user_uid, element_uid, score"
   ]
  },
  {
   "cell_type": "code",
   "execution_count": 7,
   "metadata": {},
   "outputs": [],
   "source": [
    "def score_matrix(als_train_score: pd.DataFrame) -> pd.DataFrame:\n",
    "    return als_train_score[['element_uid', 'user_uid', 'score']]"
   ]
  },
  {
   "cell_type": "code",
   "execution_count": 8,
   "metadata": {},
   "outputs": [],
   "source": [
    "als_train_score = score_matrix(als_train_score)"
   ]
  },
  {
   "attachments": {},
   "cell_type": "markdown",
   "metadata": {},
   "source": [
    "### Соединение матриц als_train_score и ratings"
   ]
  },
  {
   "cell_type": "code",
   "execution_count": 9,
   "metadata": {},
   "outputs": [],
   "source": [
    "def merge_trainsactions_ratings(trainsactions_ratings: pd.DataFrame, ratings: pd.DataFrame) -> pd.DataFrame:\n",
    "    trainsactions_ratings = (\n",
    "        trainsactions_ratings\n",
    "        .merge(\n",
    "            ratings[['user_uid', 'element_uid', 'rating']],\n",
    "            on=['user_uid', 'element_uid'],\n",
    "            how='outer'\n",
    "        )\n",
    "    )\n",
    "\n",
    "    trainsactions_ratings['score'].fillna(\n",
    "        trainsactions_ratings['rating'], inplace=True)\n",
    "    \n",
    "    return trainsactions_ratings"
   ]
  },
  {
   "cell_type": "code",
   "execution_count": 10,
   "metadata": {},
   "outputs": [],
   "source": [
    "als_train_score_rating = merge_trainsactions_ratings(als_train_score, ratings)"
   ]
  },
  {
   "attachments": {},
   "cell_type": "markdown",
   "metadata": {},
   "source": [
    "### Изменение типа данных матрицы als_train_score_rating"
   ]
  },
  {
   "cell_type": "code",
   "execution_count": 11,
   "metadata": {},
   "outputs": [
    {
     "name": "stdout",
     "output_type": "stream",
     "text": [
      "<class 'pandas.core.frame.DataFrame'>\n",
      "Int64Index: 6636716 entries, 0 to 6636715\n",
      "Data columns (total 4 columns):\n",
      " #   Column       Dtype  \n",
      "---  ------       -----  \n",
      " 0   element_uid  int64  \n",
      " 1   user_uid     int64  \n",
      " 2   score        float64\n",
      " 3   rating       float64\n",
      "dtypes: float64(2), int64(2)\n",
      "memory usage: 253.2 MB\n"
     ]
    }
   ],
   "source": [
    "als_train_score_rating.info()"
   ]
  },
  {
   "cell_type": "code",
   "execution_count": 12,
   "metadata": {},
   "outputs": [],
   "source": [
    "def change_als_train_dtype(als_train: pd.DataFrame) -> pd.DataFrame:\n",
    "    als_train['score'] = als_train['score'].astype(np.int8)\n",
    "    als_train.drop(columns='rating', inplace=True)\n",
    "    return als_train"
   ]
  },
  {
   "cell_type": "code",
   "execution_count": 13,
   "metadata": {},
   "outputs": [],
   "source": [
    "als_train_score_rating = change_als_train_dtype(als_train_score_rating)"
   ]
  },
  {
   "cell_type": "code",
   "execution_count": 14,
   "metadata": {},
   "outputs": [
    {
     "data": {
      "text/plain": [
       "(6636716, 3)"
      ]
     },
     "execution_count": 14,
     "metadata": {},
     "output_type": "execute_result"
    }
   ],
   "source": [
    "als_train_score_rating.shape"
   ]
  },
  {
   "attachments": {},
   "cell_type": "markdown",
   "metadata": {},
   "source": [
    "### Применение TF_IDF encoder для score"
   ]
  },
  {
   "cell_type": "code",
   "execution_count": 15,
   "metadata": {},
   "outputs": [],
   "source": [
    "from sklearn.preprocessing import LabelEncoder\n",
    "from scipy.sparse import csr_matrix\n",
    "\n",
    "def encode_tfidf_coo(als_train: pd.DataFrame) -> pd.DataFrame:\n",
    "    score_sum_per_user = (\n",
    "        als_train\n",
    "        .groupby('user_uid')['score']\n",
    "        .transform('sum')\n",
    "    )\n",
    "    user_count_per_element = (\n",
    "        als_train\n",
    "        .groupby('element_uid')['user_uid']\n",
    "        .transform('size')\n",
    "    )\n",
    "    tf = als_train['score'].values / score_sum_per_user.values\n",
    "    idf = np.log(len(score_sum_per_user) / user_count_per_element.values)\n",
    "    \n",
    "    tfidf = als_train[['user_uid', 'element_uid']].copy()\n",
    "    tfidf['value'] = tf * idf\n",
    "\n",
    "    return tfidf\n",
    "\n",
    "def encode_tfidf(als_train: pd.DataFrame) -> Tuple[LabelEncoder, LabelEncoder, csr_matrix]:\n",
    "    tfidf = encode_tfidf_coo(als_train)\n",
    "    \n",
    "    n_users = tfidf['user_uid'].nunique()\n",
    "    n_elements = tfidf['element_uid'].nunique()\n",
    "\n",
    "    user_encoder = LabelEncoder()\n",
    "    element_encoder = LabelEncoder()\n",
    "    user_index = user_encoder.fit_transform(als_train['user_uid'].values)\n",
    "    element_index = element_encoder.fit_transform(als_train['element_uid'].values)\n",
    "\n",
    "    tfidf_csr = csr_matrix(\n",
    "        (\n",
    "            tfidf['value'].astype('float32').values,\n",
    "            (user_index, element_index)\n",
    "        ),\n",
    "        shape=(n_users, n_elements)\n",
    "    )\n",
    "\n",
    "    return user_encoder, element_encoder, tfidf_csr\n"
   ]
  },
  {
   "cell_type": "code",
   "execution_count": 16,
   "metadata": {},
   "outputs": [],
   "source": [
    "user_encoder, element_encoder, als_train_csr = encode_tfidf(als_train_score_rating)"
   ]
  },
  {
   "cell_type": "code",
   "execution_count": 17,
   "metadata": {},
   "outputs": [
    {
     "data": {
      "text/plain": [
       "(254849, 8545)"
      ]
     },
     "execution_count": 17,
     "metadata": {},
     "output_type": "execute_result"
    }
   ],
   "source": [
    "als_train_csr.shape"
   ]
  },
  {
   "cell_type": "code",
   "execution_count": 18,
   "metadata": {},
   "outputs": [
    {
     "name": "stdout",
     "output_type": "stream",
     "text": [
      "sparsity = 99.6952%\n"
     ]
    }
   ],
   "source": [
    "print(f'sparsity = {(1 - als_train_csr.nnz / np.prod(als_train_csr.shape)) * 100:.4f}%') "
   ]
  },
  {
   "attachments": {},
   "cell_type": "markdown",
   "metadata": {},
   "source": [
    "## Обучение ALS и получение рекомендаций"
   ]
  },
  {
   "attachments": {},
   "cell_type": "markdown",
   "metadata": {},
   "source": [
    "### Обучение"
   ]
  },
  {
   "cell_type": "code",
   "execution_count": 19,
   "metadata": {},
   "outputs": [
    {
     "data": {
      "application/vnd.jupyter.widget-view+json": {
       "model_id": "2e839ebc32da496795aa3fd106c361f8",
       "version_major": 2,
       "version_minor": 0
      },
      "text/plain": [
       "  0%|          | 0/30 [00:00<?, ?it/s]"
      ]
     },
     "metadata": {},
     "output_type": "display_data"
    }
   ],
   "source": [
    "from implicit.als import AlternatingLeastSquares\n",
    "\n",
    "als = AlternatingLeastSquares(factors=128, iterations=30, calculate_training_loss=True)\n",
    "als.fit(als_train_csr)"
   ]
  },
  {
   "attachments": {},
   "cell_type": "markdown",
   "metadata": {},
   "source": [
    "### Получение рекомендаций"
   ]
  },
  {
   "cell_type": "code",
   "execution_count": 28,
   "metadata": {},
   "outputs": [],
   "source": [
    "recommendations_matrix, recommendations_scores = als.recommend(\n",
    "    np.arange(0, als_train_csr.shape[0]), \n",
    "    als_train_csr, \n",
    "    N=50, \n",
    "    filter_already_liked_items=True\n",
    ")"
   ]
  },
  {
   "cell_type": "code",
   "execution_count": 29,
   "metadata": {},
   "outputs": [
    {
     "data": {
      "text/plain": [
       "array([[1375,  506, 4726, ..., 6473, 5062, 6925],\n",
       "       [2236, 1305, 5200, ..., 4150, 1521, 6474],\n",
       "       [5112, 1105, 4789, ..., 6001, 3774, 3838],\n",
       "       ...,\n",
       "       [2094, 3255, 8115, ..., 3931, 2785, 4629],\n",
       "       [  55, 1140, 2374, ..., 2036, 7464, 5277],\n",
       "       [3639, 6780, 2571, ...,  608, 4596, 1340]], dtype=int32)"
      ]
     },
     "execution_count": 29,
     "metadata": {},
     "output_type": "execute_result"
    }
   ],
   "source": [
    "recommendations_matrix"
   ]
  },
  {
   "cell_type": "code",
   "execution_count": 30,
   "metadata": {},
   "outputs": [
    {
     "data": {
      "text/plain": [
       "(254849, 50)"
      ]
     },
     "execution_count": 30,
     "metadata": {},
     "output_type": "execute_result"
    }
   ],
   "source": [
    "recommendations_scores.shape"
   ]
  },
  {
   "cell_type": "code",
   "execution_count": 31,
   "metadata": {},
   "outputs": [],
   "source": [
    "def als_recommendations_to_df(\n",
    "    recommendations_matrix: np.ndarray, \n",
    "    recommendations_scores: np.ndarray,\n",
    "    user_encoder: LabelEncoder, \n",
    "    item_encoder: LabelEncoder,\n",
    "    user_key = 'user_id',\n",
    "    item_key = 'item_id'\n",
    ") -> pd.DataFrame:\n",
    "    recommendations_indices = pd.DataFrame({\n",
    "        'user_index': np.arange(0, len(recommendations_matrix)),\n",
    "        'item_index': list(recommendations_matrix),\n",
    "        'score': list(recommendations_scores),\n",
    "    })\n",
    "\n",
    "    user_mapping = pd.DataFrame({\n",
    "        'user_index': np.arange(0, len(user_encoder.classes_)),\n",
    "        user_key: user_encoder.classes_,\n",
    "    })\n",
    "\n",
    "    item_mapping = pd.DataFrame({\n",
    "        'item_index': np.arange(0, len(item_encoder.classes_)),\n",
    "        item_key: item_encoder.classes_,\n",
    "    })\n",
    "\n",
    "    recommendations = (\n",
    "        recommendations_indices\n",
    "        .merge(\n",
    "            user_mapping,\n",
    "            on='user_index',\n",
    "            how='left',\n",
    "        )\n",
    "        .drop(columns=['user_index'])\n",
    "        .explode(['item_index', 'score'], ignore_index=True)\n",
    "        .merge(\n",
    "            item_mapping,\n",
    "            on='item_index',\n",
    "            how='left',\n",
    "        )\n",
    "        .drop(columns=['item_index'])\n",
    "    )\n",
    "\n",
    "    return recommendations"
   ]
  },
  {
   "cell_type": "code",
   "execution_count": 32,
   "metadata": {},
   "outputs": [],
   "source": [
    "recommendations = als_recommendations_to_df(\n",
    "    recommendations_matrix,\n",
    "    recommendations_scores,\n",
    "    user_encoder,\n",
    "    element_encoder,\n",
    "    user_key='user_uid',\n",
    "    item_key='element_uid',\n",
    ")"
   ]
  },
  {
   "cell_type": "code",
   "execution_count": 33,
   "metadata": {},
   "outputs": [
    {
     "data": {
      "text/plain": [
       "(12742450, 3)"
      ]
     },
     "execution_count": 33,
     "metadata": {},
     "output_type": "execute_result"
    }
   ],
   "source": [
    "recommendations.shape"
   ]
  },
  {
   "cell_type": "code",
   "execution_count": 34,
   "metadata": {},
   "outputs": [],
   "source": [
    "recommendations.to_parquet('cb_data/recommendations.parquet')"
   ]
  },
  {
   "cell_type": "code",
   "execution_count": null,
   "metadata": {},
   "outputs": [],
   "source": [
    "  "
   ]
  }
 ],
 "metadata": {
  "kernelspec": {
   "display_name": "ds_env",
   "language": "python",
   "name": "python3"
  },
  "language_info": {
   "codemirror_mode": {
    "name": "ipython",
    "version": 3
   },
   "file_extension": ".py",
   "mimetype": "text/x-python",
   "name": "python",
   "nbconvert_exporter": "python",
   "pygments_lexer": "ipython3",
   "version": "3.8.10 (default, Nov 14 2022, 12:59:47) \n[GCC 9.4.0]"
  },
  "orig_nbformat": 4,
  "vscode": {
   "interpreter": {
    "hash": "c7d3ebd82edecee7caa3c6068d0e529c2d3c77002b6936268cfaa938ff641947"
   }
  }
 },
 "nbformat": 4,
 "nbformat_minor": 2
}
